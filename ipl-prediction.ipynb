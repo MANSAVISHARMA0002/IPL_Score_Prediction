{
 "cells": [
  {
   "cell_type": "code",
   "execution_count": 26,
   "id": "e6103f76-3593-4a4f-b5cc-fd26e347053a",
   "metadata": {},
   "outputs": [],
   "source": [
    "import pandas as pd\n",
    "import numpy as np\n",
    "import matplotlib.pyplot as plt\n",
    "import seaborn as sns\n",
    "from sklearn import preprocessing\n",
    "import keras \n",
    "import tensorflow as tf\n"
   ]
  },
  {
   "cell_type": "code",
   "execution_count": 27,
   "id": "280d6d30-4461-4893-892c-cf89ab09ddd5",
   "metadata": {},
   "outputs": [
    {
     "data": {
      "text/html": [
       "<div>\n",
       "<style scoped>\n",
       "    .dataframe tbody tr th:only-of-type {\n",
       "        vertical-align: middle;\n",
       "    }\n",
       "\n",
       "    .dataframe tbody tr th {\n",
       "        vertical-align: top;\n",
       "    }\n",
       "\n",
       "    .dataframe thead th {\n",
       "        text-align: right;\n",
       "    }\n",
       "</style>\n",
       "<table border=\"1\" class=\"dataframe\">\n",
       "  <thead>\n",
       "    <tr style=\"text-align: right;\">\n",
       "      <th></th>\n",
       "      <th>mid</th>\n",
       "      <th>date</th>\n",
       "      <th>venue</th>\n",
       "      <th>bat_team</th>\n",
       "      <th>bowl_team</th>\n",
       "      <th>batsman</th>\n",
       "      <th>bowler</th>\n",
       "      <th>runs</th>\n",
       "      <th>wickets</th>\n",
       "      <th>overs</th>\n",
       "      <th>runs_last_5</th>\n",
       "      <th>wickets_last_5</th>\n",
       "      <th>striker</th>\n",
       "      <th>non-striker</th>\n",
       "      <th>total</th>\n",
       "    </tr>\n",
       "  </thead>\n",
       "  <tbody>\n",
       "    <tr>\n",
       "      <th>0</th>\n",
       "      <td>1</td>\n",
       "      <td>2008-04-18</td>\n",
       "      <td>M Chinnaswamy Stadium</td>\n",
       "      <td>Kolkata Knight Riders</td>\n",
       "      <td>Royal Challengers Bangalore</td>\n",
       "      <td>SC Ganguly</td>\n",
       "      <td>P Kumar</td>\n",
       "      <td>1</td>\n",
       "      <td>0</td>\n",
       "      <td>0.1</td>\n",
       "      <td>1</td>\n",
       "      <td>0</td>\n",
       "      <td>0</td>\n",
       "      <td>0</td>\n",
       "      <td>222</td>\n",
       "    </tr>\n",
       "    <tr>\n",
       "      <th>1</th>\n",
       "      <td>1</td>\n",
       "      <td>2008-04-18</td>\n",
       "      <td>M Chinnaswamy Stadium</td>\n",
       "      <td>Kolkata Knight Riders</td>\n",
       "      <td>Royal Challengers Bangalore</td>\n",
       "      <td>BB McCullum</td>\n",
       "      <td>P Kumar</td>\n",
       "      <td>1</td>\n",
       "      <td>0</td>\n",
       "      <td>0.2</td>\n",
       "      <td>1</td>\n",
       "      <td>0</td>\n",
       "      <td>0</td>\n",
       "      <td>0</td>\n",
       "      <td>222</td>\n",
       "    </tr>\n",
       "    <tr>\n",
       "      <th>2</th>\n",
       "      <td>1</td>\n",
       "      <td>2008-04-18</td>\n",
       "      <td>M Chinnaswamy Stadium</td>\n",
       "      <td>Kolkata Knight Riders</td>\n",
       "      <td>Royal Challengers Bangalore</td>\n",
       "      <td>BB McCullum</td>\n",
       "      <td>P Kumar</td>\n",
       "      <td>2</td>\n",
       "      <td>0</td>\n",
       "      <td>0.2</td>\n",
       "      <td>2</td>\n",
       "      <td>0</td>\n",
       "      <td>0</td>\n",
       "      <td>0</td>\n",
       "      <td>222</td>\n",
       "    </tr>\n",
       "    <tr>\n",
       "      <th>3</th>\n",
       "      <td>1</td>\n",
       "      <td>2008-04-18</td>\n",
       "      <td>M Chinnaswamy Stadium</td>\n",
       "      <td>Kolkata Knight Riders</td>\n",
       "      <td>Royal Challengers Bangalore</td>\n",
       "      <td>BB McCullum</td>\n",
       "      <td>P Kumar</td>\n",
       "      <td>2</td>\n",
       "      <td>0</td>\n",
       "      <td>0.3</td>\n",
       "      <td>2</td>\n",
       "      <td>0</td>\n",
       "      <td>0</td>\n",
       "      <td>0</td>\n",
       "      <td>222</td>\n",
       "    </tr>\n",
       "    <tr>\n",
       "      <th>4</th>\n",
       "      <td>1</td>\n",
       "      <td>2008-04-18</td>\n",
       "      <td>M Chinnaswamy Stadium</td>\n",
       "      <td>Kolkata Knight Riders</td>\n",
       "      <td>Royal Challengers Bangalore</td>\n",
       "      <td>BB McCullum</td>\n",
       "      <td>P Kumar</td>\n",
       "      <td>2</td>\n",
       "      <td>0</td>\n",
       "      <td>0.4</td>\n",
       "      <td>2</td>\n",
       "      <td>0</td>\n",
       "      <td>0</td>\n",
       "      <td>0</td>\n",
       "      <td>222</td>\n",
       "    </tr>\n",
       "  </tbody>\n",
       "</table>\n",
       "</div>"
      ],
      "text/plain": [
       "   mid        date                  venue               bat_team  \\\n",
       "0    1  2008-04-18  M Chinnaswamy Stadium  Kolkata Knight Riders   \n",
       "1    1  2008-04-18  M Chinnaswamy Stadium  Kolkata Knight Riders   \n",
       "2    1  2008-04-18  M Chinnaswamy Stadium  Kolkata Knight Riders   \n",
       "3    1  2008-04-18  M Chinnaswamy Stadium  Kolkata Knight Riders   \n",
       "4    1  2008-04-18  M Chinnaswamy Stadium  Kolkata Knight Riders   \n",
       "\n",
       "                     bowl_team      batsman   bowler  runs  wickets  overs  \\\n",
       "0  Royal Challengers Bangalore   SC Ganguly  P Kumar     1        0    0.1   \n",
       "1  Royal Challengers Bangalore  BB McCullum  P Kumar     1        0    0.2   \n",
       "2  Royal Challengers Bangalore  BB McCullum  P Kumar     2        0    0.2   \n",
       "3  Royal Challengers Bangalore  BB McCullum  P Kumar     2        0    0.3   \n",
       "4  Royal Challengers Bangalore  BB McCullum  P Kumar     2        0    0.4   \n",
       "\n",
       "   runs_last_5  wickets_last_5  striker  non-striker  total  \n",
       "0            1               0        0            0    222  \n",
       "1            1               0        0            0    222  \n",
       "2            2               0        0            0    222  \n",
       "3            2               0        0            0    222  \n",
       "4            2               0        0            0    222  "
      ]
     },
     "execution_count": 27,
     "metadata": {},
     "output_type": "execute_result"
    }
   ],
   "source": [
    "ipl = pd.read_csv('ipl_data.csv')\n",
    "ipl.head()\n"
   ]
  },
  {
   "cell_type": "code",
   "execution_count": 28,
   "id": "d31eeed6-fe4a-4dbd-a641-0c330f3fed63",
   "metadata": {},
   "outputs": [],
   "source": [
    "#Dropping certain features \n",
    "df = ipl.drop(['date', 'runs', 'wickets', 'overs', 'runs_last_5', 'wickets_last_5','mid', 'striker', 'non-striker'], axis =1)\n"
   ]
  },
  {
   "cell_type": "code",
   "execution_count": 29,
   "id": "fba936b8-64c9-417e-91ff-5acd57e662e4",
   "metadata": {},
   "outputs": [],
   "source": [
    "X = df.drop(['total'], axis =1)\n",
    "y = df['total']\n"
   ]
  },
  {
   "cell_type": "code",
   "execution_count": 30,
   "id": "faeac882-e168-442e-98fc-c7bce9d24fef",
   "metadata": {},
   "outputs": [],
   "source": [
    "#Label Encoding\n",
    "\n",
    "from sklearn.preprocessing import LabelEncoder\n",
    "\n",
    "# Create a LabelEncoder object for each categorical feature\n",
    "venue_encoder = LabelEncoder()\n",
    "batting_team_encoder = LabelEncoder()\n",
    "bowling_team_encoder = LabelEncoder()\n",
    "striker_encoder = LabelEncoder()\n",
    "bowler_encoder = LabelEncoder()\n",
    "\n",
    "# Fit and transform the categorical features with label encoding\n",
    "X['venue'] = venue_encoder.fit_transform(X['venue'])\n",
    "X['bat_team'] = batting_team_encoder.fit_transform(X['bat_team'])\n",
    "X['bowl_team'] = bowling_team_encoder.fit_transform(X['bowl_team'])\n",
    "X['batsman'] = striker_encoder.fit_transform(X['batsman'])\n",
    "X['bowler'] = bowler_encoder.fit_transform(X['bowler'])\n"
   ]
  },
  {
   "cell_type": "code",
   "execution_count": 31,
   "id": "14c947d6-1c08-4c2f-89a8-4cb4d3f74b6a",
   "metadata": {},
   "outputs": [],
   "source": [
    "# Train test Split \n",
    "from sklearn.model_selection import train_test_split\n",
    "X_train, X_test, y_train, y_test = train_test_split(X, y, test_size=0.3, random_state=42)\n"
   ]
  },
  {
   "cell_type": "code",
   "execution_count": 32,
   "id": "0a7cf68c-4d2a-45cb-b61b-0f7d6ecc8ca3",
   "metadata": {},
   "outputs": [],
   "source": [
    "from sklearn.preprocessing import MinMaxScaler\n",
    "\n",
    "scaler = MinMaxScaler()\n",
    "\n",
    "# Fit the scaler on the training data and transform both training and testing data\n",
    "X_train_scaled = scaler.fit_transform(X_train)\n",
    "X_test_scaled = scaler.transform(X_test)\n"
   ]
  },
  {
   "cell_type": "code",
   "execution_count": 33,
   "id": "549c0c64-190a-4f2b-b30d-4d7b81d39b7d",
   "metadata": {},
   "outputs": [],
   "source": [
    "# Define the neural network model\n",
    "model = keras.Sequential([\n",
    "\tkeras.layers.Input( shape=(X_train_scaled.shape[1],)), # Input layer\n",
    "\tkeras.layers.Dense(512, activation='relu'), # Hidden layer with 512 units and ReLU activation\n",
    "\tkeras.layers.Dense(216, activation='relu'), # Hidden layer with 216 units and ReLU activation\n",
    "\tkeras.layers.Dense(1, activation='linear') # Output layer with linear activation for regression\n",
    "])\n",
    "\n",
    "# Compile the model with Huber loss\n",
    "huber_loss = tf.keras.losses.Huber(delta=1.0) # You can adjust the 'delta' parameter as needed\n",
    "model.compile(optimizer='adam', loss=huber_loss) # Use Huber loss for regression\n"
   ]
  },
  {
   "cell_type": "code",
   "execution_count": 34,
   "id": "9aeb237a-4327-49ae-a403-c61aea54cd51",
   "metadata": {},
   "outputs": [
    {
     "name": "stdout",
     "output_type": "stream",
     "text": [
      "Epoch 1/50\n",
      "832/832 [==============================] - 4s 4ms/step - loss: 32.6686 - val_loss: 22.1853\n",
      "Epoch 2/50\n",
      "832/832 [==============================] - 3s 3ms/step - loss: 22.3279 - val_loss: 21.9808\n",
      "Epoch 3/50\n",
      "832/832 [==============================] - 3s 3ms/step - loss: 22.2634 - val_loss: 22.1534\n",
      "Epoch 4/50\n",
      "832/832 [==============================] - 3s 3ms/step - loss: 22.2447 - val_loss: 21.9514\n",
      "Epoch 5/50\n",
      "832/832 [==============================] - 3s 3ms/step - loss: 22.1964 - val_loss: 22.1127\n",
      "Epoch 6/50\n",
      "832/832 [==============================] - 3s 3ms/step - loss: 22.2055 - val_loss: 22.1234\n",
      "Epoch 7/50\n",
      "832/832 [==============================] - 3s 3ms/step - loss: 22.1976 - val_loss: 21.8593\n",
      "Epoch 8/50\n",
      "832/832 [==============================] - 3s 3ms/step - loss: 22.1046 - val_loss: 21.8543\n",
      "Epoch 9/50\n",
      "832/832 [==============================] - 3s 3ms/step - loss: 22.1135 - val_loss: 22.1348\n",
      "Epoch 10/50\n",
      "832/832 [==============================] - 3s 3ms/step - loss: 22.0974 - val_loss: 21.8064\n",
      "Epoch 11/50\n",
      "832/832 [==============================] - 3s 3ms/step - loss: 22.0772 - val_loss: 22.2050\n",
      "Epoch 12/50\n",
      "832/832 [==============================] - 3s 3ms/step - loss: 22.0808 - val_loss: 22.0084\n",
      "Epoch 13/50\n",
      "832/832 [==============================] - 3s 3ms/step - loss: 22.0808 - val_loss: 21.9036\n",
      "Epoch 14/50\n",
      "832/832 [==============================] - 3s 3ms/step - loss: 22.0651 - val_loss: 21.7288\n",
      "Epoch 15/50\n",
      "832/832 [==============================] - 3s 3ms/step - loss: 22.0586 - val_loss: 22.0368\n",
      "Epoch 16/50\n",
      "832/832 [==============================] - 3s 3ms/step - loss: 22.0310 - val_loss: 21.7328\n",
      "Epoch 17/50\n",
      "832/832 [==============================] - 3s 3ms/step - loss: 22.0407 - val_loss: 21.7756\n",
      "Epoch 18/50\n",
      "832/832 [==============================] - 3s 3ms/step - loss: 21.9707 - val_loss: 21.9855\n",
      "Epoch 19/50\n",
      "832/832 [==============================] - 3s 3ms/step - loss: 21.8435 - val_loss: 21.5773\n",
      "Epoch 20/50\n",
      "832/832 [==============================] - 3s 3ms/step - loss: 21.7901 - val_loss: 21.4395\n",
      "Epoch 21/50\n",
      "832/832 [==============================] - 3s 3ms/step - loss: 21.7438 - val_loss: 21.7228\n",
      "Epoch 22/50\n",
      "832/832 [==============================] - 3s 3ms/step - loss: 21.6886 - val_loss: 21.5134\n",
      "Epoch 23/50\n",
      "832/832 [==============================] - 3s 3ms/step - loss: 21.6941 - val_loss: 21.7182\n",
      "Epoch 24/50\n",
      "832/832 [==============================] - 3s 3ms/step - loss: 21.6109 - val_loss: 21.2915\n",
      "Epoch 25/50\n",
      "832/832 [==============================] - 3s 3ms/step - loss: 21.6336 - val_loss: 21.6447\n",
      "Epoch 26/50\n",
      "832/832 [==============================] - 3s 3ms/step - loss: 21.5412 - val_loss: 21.1950\n",
      "Epoch 27/50\n",
      "832/832 [==============================] - 3s 3ms/step - loss: 21.5096 - val_loss: 21.5268\n",
      "Epoch 28/50\n",
      "832/832 [==============================] - 3s 3ms/step - loss: 21.4182 - val_loss: 21.3709\n",
      "Epoch 29/50\n",
      "832/832 [==============================] - 3s 3ms/step - loss: 21.4341 - val_loss: 21.2979\n",
      "Epoch 30/50\n",
      "832/832 [==============================] - 3s 3ms/step - loss: 21.3308 - val_loss: 21.0498\n",
      "Epoch 31/50\n",
      "832/832 [==============================] - 3s 3ms/step - loss: 21.2715 - val_loss: 20.9444\n",
      "Epoch 32/50\n",
      "832/832 [==============================] - 3s 3ms/step - loss: 21.2172 - val_loss: 20.8849\n",
      "Epoch 33/50\n",
      "832/832 [==============================] - 3s 3ms/step - loss: 21.1093 - val_loss: 20.8637\n",
      "Epoch 34/50\n",
      "832/832 [==============================] - 3s 3ms/step - loss: 21.0230 - val_loss: 20.7389\n",
      "Epoch 35/50\n",
      "832/832 [==============================] - 3s 3ms/step - loss: 20.9743 - val_loss: 20.9500\n",
      "Epoch 36/50\n",
      "832/832 [==============================] - 3s 3ms/step - loss: 20.8684 - val_loss: 20.6597\n",
      "Epoch 37/50\n",
      "832/832 [==============================] - 3s 3ms/step - loss: 20.7366 - val_loss: 20.5341\n",
      "Epoch 38/50\n",
      "832/832 [==============================] - 3s 3ms/step - loss: 20.6719 - val_loss: 20.3922\n",
      "Epoch 39/50\n",
      "832/832 [==============================] - 3s 3ms/step - loss: 20.5777 - val_loss: 20.8799\n",
      "Epoch 40/50\n",
      "832/832 [==============================] - 3s 3ms/step - loss: 20.5148 - val_loss: 20.2259\n",
      "Epoch 41/50\n",
      "832/832 [==============================] - 3s 3ms/step - loss: 20.4106 - val_loss: 20.0546\n",
      "Epoch 42/50\n",
      "832/832 [==============================] - 3s 3ms/step - loss: 20.2848 - val_loss: 20.0542\n",
      "Epoch 43/50\n",
      "832/832 [==============================] - 3s 3ms/step - loss: 20.1761 - val_loss: 19.9250\n",
      "Epoch 44/50\n",
      "832/832 [==============================] - 3s 3ms/step - loss: 20.1017 - val_loss: 20.0197\n",
      "Epoch 45/50\n",
      "832/832 [==============================] - 3s 3ms/step - loss: 19.9745 - val_loss: 19.6552\n",
      "Epoch 46/50\n",
      "832/832 [==============================] - 3s 3ms/step - loss: 19.8827 - val_loss: 19.6188\n",
      "Epoch 47/50\n",
      "832/832 [==============================] - 3s 3ms/step - loss: 19.7851 - val_loss: 19.4497\n",
      "Epoch 48/50\n",
      "832/832 [==============================] - 3s 3ms/step - loss: 19.6160 - val_loss: 19.5209\n",
      "Epoch 49/50\n",
      "832/832 [==============================] - 3s 3ms/step - loss: 19.5614 - val_loss: 19.2637\n",
      "Epoch 50/50\n",
      "832/832 [==============================] - 3s 3ms/step - loss: 19.4088 - val_loss: 19.0814\n"
     ]
    },
    {
     "data": {
      "text/plain": [
       "<keras.callbacks.History at 0x2c75f1bfc40>"
      ]
     },
     "execution_count": 34,
     "metadata": {},
     "output_type": "execute_result"
    }
   ],
   "source": [
    "# Train the model\n",
    "model.fit(X_train_scaled, y_train, epochs=50, batch_size=64, validation_data=(X_test_scaled, y_test))\n"
   ]
  },
  {
   "cell_type": "code",
   "execution_count": 35,
   "id": "bc61bfd2-ba94-44c8-957b-ec618c05024d",
   "metadata": {},
   "outputs": [
    {
     "data": {
      "text/plain": [
       "<Axes: >"
      ]
     },
     "execution_count": 35,
     "metadata": {},
     "output_type": "execute_result"
    },
    {
     "data": {
      "image/png": "[encoded data removed]",
      "text/plain": [
       "<Figure size 640x480 with 1 Axes>"
      ]
     },
     "metadata": {},
     "output_type": "display_data"
    }
   ],
   "source": [
    "model_losses = pd.DataFrame(model.history.history)\n",
    "model_losses.plot()\n"
   ]
  },
  {
   "cell_type": "code",
   "execution_count": 36,
   "id": "5741ab9f-df00-42cc-b378-7405a332a4c1",
   "metadata": {},
   "outputs": [
    {
     "name": "stdout",
     "output_type": "stream",
     "text": [
      "713/713 [==============================] - 1s 2ms/step\n"
     ]
    },
    {
     "data": {
      "text/plain": [
       "19.57210989903787"
      ]
     },
     "execution_count": 36,
     "metadata": {},
     "output_type": "execute_result"
    }
   ],
   "source": [
    "# Make predictions\n",
    "predictions = model.predict(X_test_scaled)\n",
    "\n",
    "from sklearn.metrics import mean_absolute_error,mean_squared_error\n",
    "mean_absolute_error(y_test,predictions)\n"
   ]
  },
  {
   "cell_type": "code",
   "execution_count": 37,
   "id": "1bcdbbf2-6882-4943-95e8-beb24172e8c6",
   "metadata": {},
   "outputs": [],
   "source": [
    "import ipywidgets as widgets\n",
    "from IPython.display import display, clear_output\n",
    "\n",
    "import warnings\n",
    "warnings.filterwarnings(\"ignore\")\n",
    "\n",
    "venue = widgets.Dropdown(options=df['venue'].unique().tolist(),description='Select Venue:')\n",
    "batting_team = widgets.Dropdown(options =df['bat_team'].unique().tolist(), description='Select Batting Team:')\n",
    "bowling_team = widgets.Dropdown(options=df['bowl_team'].unique().tolist(), description='Select Batting Team:')\n",
    "striker = widgets.Dropdown(options=df['batsman'].unique().tolist(), description='Select Striker:')\n",
    "bowler = widgets.Dropdown(options=df['bowler'].unique().tolist(), description='Select Bowler:')\n",
    "\n",
    "predict_button = widgets.Button(description=\"Predict Score\")\n",
    "\n",
    "def predict_score(b):\n",
    "\twith output:\n",
    "\t\tclear_output() # Clear the previous output\n",
    "\t\t\n",
    "\n",
    "\t\t# Decode the encoded values back to their original values\n",
    "\t\tdecoded_venue = venue_encoder.transform([venue.value])\n",
    "\t\tdecoded_batting_team = batting_team_encoder.transform([batting_team.value])\n",
    "\t\tdecoded_bowling_team = bowling_team_encoder.transform([bowling_team.value])\n",
    "\t\tdecoded_striker = striker_encoder.transform([striker.value])\n",
    "\t\tdecoded_bowler = bowler_encoder.transform([bowler.value])\n",
    "\n",
    "\n",
    "\t\tinput = np.array([decoded_venue, decoded_batting_team, decoded_bowling_team,decoded_striker, decoded_bowler])\n",
    "\t\tinput = input.reshape(1,5)\n",
    "\t\tinput = scaler.transform(input)\n",
    "\t\t#print(input)\n",
    "\t\tpredicted_score = model.predict(input)\n",
    "\t\tpredicted_score = int(predicted_score[0,0])\n",
    "\n",
    "\t\tprint(predicted_score)\n"
   ]
  },
  {
   "cell_type": "code",
   "execution_count": 38,
   "id": "305b14dd-5b51-4329-a6e1-8641a345b7ad",
   "metadata": {},
   "outputs": [
    {
     "data": {
      "application/vnd.jupyter.widget-view+json": {
       "model_id": "e871e15249ba4069b274026f1055b680",
       "version_major": 2,
       "version_minor": 0
      },
      "text/plain": [
       "Dropdown(description='Select Venue:', options=('M Chinnaswamy Stadium', 'Punjab Cricket Association Stadium, M…"
      ]
     },
     "metadata": {},
     "output_type": "display_data"
    },
    {
     "data": {
      "application/vnd.jupyter.widget-view+json": {
       "model_id": "821dac2571b042e6bcaa276bc100ccae",
       "version_major": 2,
       "version_minor": 0
      },
      "text/plain": [
       "Dropdown(description='Select Batting Team:', options=('Kolkata Knight Riders', 'Chennai Super Kings', 'Rajasth…"
      ]
     },
     "metadata": {},
     "output_type": "display_data"
    },
    {
     "data": {
      "application/vnd.jupyter.widget-view+json": {
       "model_id": "ff96092989f4429ea12e0e569dcd562b",
       "version_major": 2,
       "version_minor": 0
      },
      "text/plain": [
       "Dropdown(description='Select Batting Team:', options=('Royal Challengers Bangalore', 'Kings XI Punjab', 'Delhi…"
      ]
     },
     "metadata": {},
     "output_type": "display_data"
    },
    {
     "data": {
      "application/vnd.jupyter.widget-view+json": {
       "model_id": "246cd7fc6b464aefb89062f709fd42d5",
       "version_major": 2,
       "version_minor": 0
      },
      "text/plain": [
       "Dropdown(description='Select Striker:', options=('SC Ganguly', 'BB McCullum', 'RT Ponting', 'DJ Hussey', 'Moha…"
      ]
     },
     "metadata": {},
     "output_type": "display_data"
    },
    {
     "data": {
      "application/vnd.jupyter.widget-view+json": {
       "model_id": "e132bd404b754c46883d122c92c9013e",
       "version_major": 2,
       "version_minor": 0
      },
      "text/plain": [
       "Dropdown(description='Select Bowler:', options=('P Kumar', 'Z Khan', 'AA Noffke', 'JH Kallis', 'SB Joshi', 'CL…"
      ]
     },
     "metadata": {},
     "output_type": "display_data"
    },
    {
     "data": {
      "application/vnd.jupyter.widget-view+json": {
       "model_id": "238aee01e0d74c10877ef58a0f2051c4",
       "version_major": 2,
       "version_minor": 0
      },
      "text/plain": [
       "Button(description='Predict Score', style=ButtonStyle())"
      ]
     },
     "metadata": {},
     "output_type": "display_data"
    },
    {
     "data": {
      "application/vnd.jupyter.widget-view+json": {
       "model_id": "9c181b33e4fb414e85f397a3de07181d",
       "version_major": 2,
       "version_minor": 0
      },
      "text/plain": [
       "Output()"
      ]
     },
     "metadata": {},
     "output_type": "display_data"
    }
   ],
   "source": [
    "predict_button.on_click(predict_score)\n",
    "output = widgets.Output()\n",
    "display(venue, batting_team, bowling_team, striker, bowler, predict_button, output)\n"
   ]
  },
  {
   "cell_type": "code",
   "execution_count": null,
   "id": "70a95f5b-94e6-4989-acc1-3f0e7d539f92",
   "metadata": {},
   "outputs": [],
   "source": []
  }
 ],
 "metadata": {
  "kernelspec": {
   "display_name": "Python 3 (ipykernel)",
   "language": "python",
   "name": "python3"
  },
  "language_info": {
   "codemirror_mode": {
    "name": "ipython",
    "version": 3
   },
   "file_extension": ".py",
   "mimetype": "text/x-python",
   "name": "python",
   "nbconvert_exporter": "python",
   "pygments_lexer": "ipython3",
   "version": "3.9.18"
  }
 },
 "nbformat": 4,
 "nbformat_minor": 5
}
